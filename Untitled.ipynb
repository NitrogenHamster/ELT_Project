{
 "cells": [
  {
   "cell_type": "code",
   "execution_count": 64,
   "metadata": {},
   "outputs": [],
   "source": [
    "from selenium import webdriver\n",
    "from selenium.webdriver.chrome.options import Options\n",
    "import json"
   ]
  },
  {
   "cell_type": "code",
   "execution_count": 67,
   "metadata": {},
   "outputs": [
    {
     "name": "stderr",
     "output_type": "stream",
     "text": [
      "c:\\robodk\\python37\\lib\\site-packages\\ipykernel_launcher.py:7: DeprecationWarning: use options instead of chrome_options\n",
      "  import sys\n"
     ]
    },
    {
     "name": "stdout",
     "output_type": "stream",
     "text": [
      "{'Trims': [{'model_id': '37676', 'model_make_id': 'subaru', 'model_name': 'Impreza', 'model_trim': '2.0 WRX STi Type RA', 'model_year': '2003', 'model_body': 'Sedan', 'model_engine_position': 'Front', 'model_engine_cc': '1992', 'model_engine_cyl': '4', 'model_engine_type': 'boxer', 'model_engine_valves_per_cyl': '4', 'model_engine_power_ps': '280', 'model_engine_power_rpm': '6400', 'model_engine_torque_nm': '384', 'model_engine_torque_rpm': '4400', 'model_engine_bore_mm': '92.0', 'model_engine_stroke_mm': '75.0', 'model_engine_compression': '8.0:1', 'model_engine_fuel': None, 'model_top_speed_kph': None, 'model_0_to_100_kph': None, 'model_drive': '4WD', 'model_transmission_type': 'Manual', 'model_seats': '5', 'model_doors': '4', 'model_weight_kg': '1290', 'model_length_mm': '4420', 'model_width_mm': '1740', 'model_height_mm': '1430', 'model_wheelbase_mm': '2680', 'model_lkm_hwy': None, 'model_lkm_mixed': None, 'model_lkm_city': None, 'model_fuel_cap_l': '50', 'model_sold_in_us': '1', 'model_co2': None, 'model_make_display': 'Subaru', 'make_display': 'Subaru', 'make_country': 'Japan'}]}\n"
     ]
    }
   ],
   "source": [
    "chrome_options = Options()\n",
    "chrome_options.add_argument(\"--headless\")\n",
    "chrome_options.add_argument(\"--window-size=1920x1080\")\n",
    "\n",
    "chrome_driver = \"chromedriver.exe\"\n",
    "\n",
    "driver = webdriver.Chrome(chrome_options=chrome_options, executable_path=chrome_driver)\n",
    "\n",
    "driver.get('https://www.carqueryapi.com/api/0.3/?callback=?&cmd=getTrims&model=Impreza&year=2003&body=Sedan')\n",
    "\n",
    "#html = (driver.find_element_by_tag_name('body').text)[2:-2]\n",
    "\n",
    "#html = html\n",
    "\n",
    "results = json.loads(((driver.find_element_by_tag_name('body').text)[2:-2]))\n",
    "\n",
    "print(results)\n",
    "driver.quit()"
   ]
  },
  {
   "cell_type": "code",
   "execution_count": 70,
   "metadata": {},
   "outputs": [
    {
     "data": {
      "text/plain": [
       "{'model_id': '37676',\n",
       " 'model_make_id': 'subaru',\n",
       " 'model_name': 'Impreza',\n",
       " 'model_trim': '2.0 WRX STi Type RA',\n",
       " 'model_year': '2003',\n",
       " 'model_body': 'Sedan',\n",
       " 'model_engine_position': 'Front',\n",
       " 'model_engine_cc': '1992',\n",
       " 'model_engine_cyl': '4',\n",
       " 'model_engine_type': 'boxer',\n",
       " 'model_engine_valves_per_cyl': '4',\n",
       " 'model_engine_power_ps': '280',\n",
       " 'model_engine_power_rpm': '6400',\n",
       " 'model_engine_torque_nm': '384',\n",
       " 'model_engine_torque_rpm': '4400',\n",
       " 'model_engine_bore_mm': '92.0',\n",
       " 'model_engine_stroke_mm': '75.0',\n",
       " 'model_engine_compression': '8.0:1',\n",
       " 'model_engine_fuel': None,\n",
       " 'model_top_speed_kph': None,\n",
       " 'model_0_to_100_kph': None,\n",
       " 'model_drive': '4WD',\n",
       " 'model_transmission_type': 'Manual',\n",
       " 'model_seats': '5',\n",
       " 'model_doors': '4',\n",
       " 'model_weight_kg': '1290',\n",
       " 'model_length_mm': '4420',\n",
       " 'model_width_mm': '1740',\n",
       " 'model_height_mm': '1430',\n",
       " 'model_wheelbase_mm': '2680',\n",
       " 'model_lkm_hwy': None,\n",
       " 'model_lkm_mixed': None,\n",
       " 'model_lkm_city': None,\n",
       " 'model_fuel_cap_l': '50',\n",
       " 'model_sold_in_us': '1',\n",
       " 'model_co2': None,\n",
       " 'model_make_display': 'Subaru',\n",
       " 'make_display': 'Subaru',\n",
       " 'make_country': 'Japan'}"
      ]
     },
     "execution_count": 70,
     "metadata": {},
     "output_type": "execute_result"
    }
   ],
   "source": [
    "results['Trims'][0]"
   ]
  },
  {
   "cell_type": "code",
   "execution_count": null,
   "metadata": {},
   "outputs": [],
   "source": []
  }
 ],
 "metadata": {
  "kernelspec": {
   "display_name": "Python 3",
   "language": "python",
   "name": "python3"
  },
  "language_info": {
   "codemirror_mode": {
    "name": "ipython",
    "version": 3
   },
   "file_extension": ".py",
   "mimetype": "text/x-python",
   "name": "python",
   "nbconvert_exporter": "python",
   "pygments_lexer": "ipython3",
   "version": "3.7.3"
  }
 },
 "nbformat": 4,
 "nbformat_minor": 4
}
