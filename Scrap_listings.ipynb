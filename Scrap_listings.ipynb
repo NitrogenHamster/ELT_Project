{
 "cells": [
  {
   "cell_type": "code",
   "execution_count": 5,
   "metadata": {},
   "outputs": [],
   "source": [
    "from selenium import webdriver\n",
    "from selenium.webdriver.chrome.options import Options\n",
    "import matplotlib.pyplot as plt\n",
    "import numpy as np\n",
    "import os\n",
    "import math\n",
    "#from config import Base_url_one, Base_url_two\n",
    "import time\n",
    "import pandas as pd\n",
    "import re"
   ]
  },
  {
   "cell_type": "code",
   "execution_count": 6,
   "metadata": {},
   "outputs": [],
   "source": [
    "def get_page_num(driver, url):\n",
    "    driver.get(url)\n",
    "    try:\n",
    "        page_info = driver.find_element_by_css_selector('.showing').text\n",
    "        page_info = re.findall('[0-9]+',page_info)\n",
    "        total_page_num = math.ceil(int(page_info[2]) / int(page_info[1]))\n",
    "        print(total_page_num)\n",
    "    except:\n",
    "        total_page_num = 1\n",
    "        pass    \n",
    "    return total_page_num"
   ]
  },
  {
   "cell_type": "code",
   "execution_count": 7,
   "metadata": {},
   "outputs": [],
   "source": [
    "def Find_items(driver_tab, url):\n",
    "    information_tab = []\n",
    "    driver_tab.get(url)\n",
    "    time.sleep(5)\n",
    "    \n",
    "    try:\n",
    "        information_tab.append(driver_tab.find_element_by_css_selector(\"dd[itemprop*='vehicleModelDate']\").text)\n",
    "    except:\n",
    "        information_tab.append(\"N/A\")\n",
    "\n",
    "    try:\n",
    "        information_tab.append(driver_tab.find_element_by_css_selector(\"dd[itemprop*='brand']\").text)\n",
    "    except:\n",
    "        information_tab.append(\"N/A\")\n",
    "\n",
    "    try:\n",
    "        information_tab.append(driver_tab.find_element_by_css_selector(\"dd[itemprop*='model']\").text)\n",
    "    except:\n",
    "        information_tab.append(\"N/A\")\n",
    "\n",
    "    try:\n",
    "        information_tab.append(driver_tab.find_element_by_css_selector(\"dd[itemprop*='bodyType']\").text)\n",
    "    except:\n",
    "        information_tab.append(\"N/A\")\n",
    "\n",
    "    try:\n",
    "        information_tab.append(driver_tab.find_element_by_css_selector(\"dd[itemprop*='driveWheelConfiguration']\").text)\n",
    "    except:\n",
    "        information_tab.append(\"N/A\")\n",
    "        \n",
    "    try:\n",
    "        information_tab.append(driver_tab.find_element_by_css_selector(\"dd[itemprop*='mileageFromOdometer']\").text)\n",
    "    except:\n",
    "        information_tab.append(\"N/A\")\n",
    "        \n",
    "    try:\n",
    "        information_tab.append(driver_tab.find_element_by_css_selector(\"span[itemprop*='price']\").get_attribute(\"content\"))\n",
    "    except:\n",
    "        information_tab.append(\"N/A\")\n",
    "        \n",
    "    \n",
    "    return information_tab"
   ]
  },
  {
   "cell_type": "code",
   "execution_count": null,
   "metadata": {
    "scrolled": true
   },
   "outputs": [
    {
     "name": "stderr",
     "output_type": "stream",
     "text": [
      "c:\\robodk\\python37\\lib\\site-packages\\ipykernel_launcher.py:12: DeprecationWarning: use options instead of chrome_options\n",
      "  if sys.path[0] == '':\n",
      "c:\\robodk\\python37\\lib\\site-packages\\ipykernel_launcher.py:13: DeprecationWarning: use options instead of chrome_options\n",
      "  del sys.path[0]\n"
     ]
    },
    {
     "name": "stdout",
     "output_type": "stream",
     "text": [
      "10\n",
      "45\n"
     ]
    }
   ],
   "source": [
    "Main_List = []\n",
    "Individal_List = []\n",
    "url_links = []\n",
    "url_links2 = []\n",
    "\n",
    "chrome_options = Options()\n",
    "chrome_options.add_argument(\"--headless\")\n",
    "chrome_options.add_argument(\"--window-size=1920x1080\")\n",
    "\n",
    "chrome_driver = os.getcwd() +\"\\\\chromedriver.exe\"\n",
    "\n",
    "driver = webdriver.Chrome(chrome_options=chrome_options, executable_path=chrome_driver)\n",
    "driver_tab = webdriver.Chrome(chrome_options=chrome_options, executable_path=chrome_driver)\n",
    "\n",
    "#driver = webdriver.Chrome(\"chromedriver.exe\")\n",
    "#driver_tab = webdriver.Chrome(\"chromedriver.exe\")\n",
    "\n",
    "for Num_page in range(2,get_page_num(driver, 'https://www.kijiji.ca/b-cars-trucks/ontario/subaru-impreza-new__used/c174l9004a54a1000054a49')+1):    \n",
    "    time.sleep(5)\n",
    "    url_links = (driver.find_elements_by_css_selector(\"div[class*='search-item']\"))\n",
    "    print(len(url_links))\n",
    "    \n",
    "    for listing in url_links:\n",
    "        Individal_url = \"https:/www.kijiji.ca\"+ str(listing.get_attribute(\"data-vip-url\"))\n",
    "        Individal_List.append(Individal_url)\n",
    "        Individal_List.append(str(listing.get_attribute(\"data-listing-id\")))\n",
    "        Individal_List.extend(Find_items(driver_tab, Individal_url))\n",
    "        Main_List.append(Individal_List)\n",
    "        Individal_List = []\n",
    "        \n",
    "    time.sleep(5)\n",
    "    driver.get('https://www.kijiji.ca/b-cars-trucks/ontario/subaru-impreza-new__used/page-' + str(Num_page) + '/c174l9004a54a1000054a49')\n",
    "\n",
    "print(Main_List)\n",
    "driver_tab.close()\n",
    "driver.quit()"
   ]
  },
  {
   "cell_type": "code",
   "execution_count": null,
   "metadata": {},
   "outputs": [],
   "source": [
    "df = pd.DataFrame(Main_List)\n",
    "df.columns = ['Url', 'id','year', 'brand', 'model', 'bodytype' , 'drivingconfiguration', 'Odometer','Price']"
   ]
  },
  {
   "cell_type": "code",
   "execution_count": null,
   "metadata": {},
   "outputs": [],
   "source": [
    "df.to_csv('Listings.csv')"
   ]
  },
  {
   "cell_type": "code",
   "execution_count": 89,
   "metadata": {},
   "outputs": [
    {
     "data": {
      "text/html": [
       "<div>\n",
       "<style scoped>\n",
       "    .dataframe tbody tr th:only-of-type {\n",
       "        vertical-align: middle;\n",
       "    }\n",
       "\n",
       "    .dataframe tbody tr th {\n",
       "        vertical-align: top;\n",
       "    }\n",
       "\n",
       "    .dataframe thead th {\n",
       "        text-align: right;\n",
       "    }\n",
       "</style>\n",
       "<table border=\"1\" class=\"dataframe\">\n",
       "  <thead>\n",
       "    <tr style=\"text-align: right;\">\n",
       "      <th></th>\n",
       "      <th>Url</th>\n",
       "      <th>id</th>\n",
       "      <th>year</th>\n",
       "      <th>brand</th>\n",
       "      <th>model</th>\n",
       "      <th>bodytype</th>\n",
       "      <th>drivingconfiguration</th>\n",
       "      <th>Odometer</th>\n",
       "      <th>Price</th>\n",
       "    </tr>\n",
       "  </thead>\n",
       "  <tbody>\n",
       "    <tr>\n",
       "      <th>0</th>\n",
       "      <td>https:/www.kijiji.ca/v-cars-trucks/north-bay/2...</td>\n",
       "      <td>1488048060</td>\n",
       "      <td>2017</td>\n",
       "      <td>Subaru</td>\n",
       "      <td>Impreza</td>\n",
       "      <td>Sedan</td>\n",
       "      <td>Other</td>\n",
       "      <td>44,369</td>\n",
       "      <td>19995.00</td>\n",
       "    </tr>\n",
       "    <tr>\n",
       "      <th>1</th>\n",
       "      <td>https:/www.kijiji.ca/v-cars-trucks/guelph/2018...</td>\n",
       "      <td>1480823396</td>\n",
       "      <td>2018</td>\n",
       "      <td>Subaru</td>\n",
       "      <td>Impreza</td>\n",
       "      <td>Sedan</td>\n",
       "      <td>All-wheel drive (AWD)</td>\n",
       "      <td>28,651</td>\n",
       "      <td>23898.00</td>\n",
       "    </tr>\n",
       "    <tr>\n",
       "      <th>2</th>\n",
       "      <td>https:/www.kijiji.ca/v-cars-trucks/ottawa/2017...</td>\n",
       "      <td>1478513849</td>\n",
       "      <td>2017</td>\n",
       "      <td>Subaru</td>\n",
       "      <td>Impreza</td>\n",
       "      <td>Hatchback</td>\n",
       "      <td>All-wheel drive (AWD)</td>\n",
       "      <td>98,900</td>\n",
       "      <td>17398.00</td>\n",
       "    </tr>\n",
       "    <tr>\n",
       "      <th>3</th>\n",
       "      <td>https:/www.kijiji.ca/v-cars-trucks/london/2016...</td>\n",
       "      <td>1431221835</td>\n",
       "      <td>2016</td>\n",
       "      <td>Subaru</td>\n",
       "      <td>Impreza</td>\n",
       "      <td>Hatchback</td>\n",
       "      <td>All-wheel drive (AWD)</td>\n",
       "      <td>33,725</td>\n",
       "      <td>20495.00</td>\n",
       "    </tr>\n",
       "    <tr>\n",
       "      <th>4</th>\n",
       "      <td>https:/www.kijiji.ca/v-cars-trucks/cambridge/2...</td>\n",
       "      <td>1481098212</td>\n",
       "      <td>2010</td>\n",
       "      <td>Subaru</td>\n",
       "      <td>Impreza</td>\n",
       "      <td>Sedan</td>\n",
       "      <td>All-wheel drive (AWD)</td>\n",
       "      <td>175,000</td>\n",
       "      <td>9995.00</td>\n",
       "    </tr>\n",
       "    <tr>\n",
       "      <th>...</th>\n",
       "      <td>...</td>\n",
       "      <td>...</td>\n",
       "      <td>...</td>\n",
       "      <td>...</td>\n",
       "      <td>...</td>\n",
       "      <td>...</td>\n",
       "      <td>...</td>\n",
       "      <td>...</td>\n",
       "      <td>...</td>\n",
       "    </tr>\n",
       "    <tr>\n",
       "      <th>445</th>\n",
       "      <td>https:/www.kijiji.ca/v-cars-trucks/st-catharin...</td>\n",
       "      <td>1489166935</td>\n",
       "      <td>2002</td>\n",
       "      <td>Subaru</td>\n",
       "      <td>Impreza</td>\n",
       "      <td>Wagon</td>\n",
       "      <td>N/A</td>\n",
       "      <td>210,000</td>\n",
       "      <td>3000.00</td>\n",
       "    </tr>\n",
       "    <tr>\n",
       "      <th>446</th>\n",
       "      <td>https:/www.kijiji.ca/v-cars-trucks/mississauga...</td>\n",
       "      <td>1489085179</td>\n",
       "      <td>2013</td>\n",
       "      <td>Subaru</td>\n",
       "      <td>Impreza</td>\n",
       "      <td>Sedan</td>\n",
       "      <td>All-wheel drive (AWD)</td>\n",
       "      <td>170,000</td>\n",
       "      <td>7500.00</td>\n",
       "    </tr>\n",
       "    <tr>\n",
       "      <th>447</th>\n",
       "      <td>https:/www.kijiji.ca/v-cars-trucks/oakville-ha...</td>\n",
       "      <td>1488974976</td>\n",
       "      <td>2012</td>\n",
       "      <td>Subaru</td>\n",
       "      <td>Impreza</td>\n",
       "      <td>Sedan</td>\n",
       "      <td>All-wheel drive (AWD)</td>\n",
       "      <td>159,366</td>\n",
       "      <td>12500.00</td>\n",
       "    </tr>\n",
       "    <tr>\n",
       "      <th>448</th>\n",
       "      <td>https:/www.kijiji.ca/v-cars-trucks/markham-yor...</td>\n",
       "      <td>1489022666</td>\n",
       "      <td>2011</td>\n",
       "      <td>Subaru</td>\n",
       "      <td>Impreza</td>\n",
       "      <td>Hatchback</td>\n",
       "      <td>All-wheel drive (AWD)</td>\n",
       "      <td>105,000</td>\n",
       "      <td>10000.00</td>\n",
       "    </tr>\n",
       "    <tr>\n",
       "      <th>449</th>\n",
       "      <td>https:/www.kijiji.ca/v-cars-trucks/ottawa/2008...</td>\n",
       "      <td>1488961032</td>\n",
       "      <td>2008</td>\n",
       "      <td>Subaru</td>\n",
       "      <td>Impreza</td>\n",
       "      <td>Sedan</td>\n",
       "      <td>All-wheel drive (AWD)</td>\n",
       "      <td>146,720</td>\n",
       "      <td>4500.00</td>\n",
       "    </tr>\n",
       "  </tbody>\n",
       "</table>\n",
       "<p>450 rows × 9 columns</p>\n",
       "</div>"
      ],
      "text/plain": [
       "                                                   Url          id  year  \\\n",
       "0    https:/www.kijiji.ca/v-cars-trucks/north-bay/2...  1488048060  2017   \n",
       "1    https:/www.kijiji.ca/v-cars-trucks/guelph/2018...  1480823396  2018   \n",
       "2    https:/www.kijiji.ca/v-cars-trucks/ottawa/2017...  1478513849  2017   \n",
       "3    https:/www.kijiji.ca/v-cars-trucks/london/2016...  1431221835  2016   \n",
       "4    https:/www.kijiji.ca/v-cars-trucks/cambridge/2...  1481098212  2010   \n",
       "..                                                 ...         ...   ...   \n",
       "445  https:/www.kijiji.ca/v-cars-trucks/st-catharin...  1489166935  2002   \n",
       "446  https:/www.kijiji.ca/v-cars-trucks/mississauga...  1489085179  2013   \n",
       "447  https:/www.kijiji.ca/v-cars-trucks/oakville-ha...  1488974976  2012   \n",
       "448  https:/www.kijiji.ca/v-cars-trucks/markham-yor...  1489022666  2011   \n",
       "449  https:/www.kijiji.ca/v-cars-trucks/ottawa/2008...  1488961032  2008   \n",
       "\n",
       "      brand    model   bodytype   drivingconfiguration Odometer     Price  \n",
       "0    Subaru  Impreza      Sedan                  Other   44,369  19995.00  \n",
       "1    Subaru  Impreza      Sedan  All-wheel drive (AWD)   28,651  23898.00  \n",
       "2    Subaru  Impreza  Hatchback  All-wheel drive (AWD)   98,900  17398.00  \n",
       "3    Subaru  Impreza  Hatchback  All-wheel drive (AWD)   33,725  20495.00  \n",
       "4    Subaru  Impreza      Sedan  All-wheel drive (AWD)  175,000   9995.00  \n",
       "..      ...      ...        ...                    ...      ...       ...  \n",
       "445  Subaru  Impreza      Wagon                    N/A  210,000   3000.00  \n",
       "446  Subaru  Impreza      Sedan  All-wheel drive (AWD)  170,000   7500.00  \n",
       "447  Subaru  Impreza      Sedan  All-wheel drive (AWD)  159,366  12500.00  \n",
       "448  Subaru  Impreza  Hatchback  All-wheel drive (AWD)  105,000  10000.00  \n",
       "449  Subaru  Impreza      Sedan  All-wheel drive (AWD)  146,720   4500.00  \n",
       "\n",
       "[450 rows x 9 columns]"
      ]
     },
     "execution_count": 89,
     "metadata": {},
     "output_type": "execute_result"
    }
   ],
   "source": [
    "df.round()"
   ]
  },
  {
   "cell_type": "code",
   "execution_count": 90,
   "metadata": {},
   "outputs": [],
   "source": [
    "grouped = df.loc[(df[\"year\"] == \"2008\") & (df[\"bodytype\"] == \"Hatchback\")]"
   ]
  },
  {
   "cell_type": "code",
   "execution_count": 92,
   "metadata": {},
   "outputs": [
    {
     "data": {
      "image/png": "[encoded data removed]",
      "text/plain": [
       "<Figure size 432x288 with 1 Axes>"
      ]
     },
     "metadata": {
      "needs_background": "light"
     },
     "output_type": "display_data"
    }
   ],
   "source": [
    "fig1, ax1 = plt.subplots()\n",
    "data = list(map(float, grouped[\"Price\"].tolist())) \n",
    "ax1.set_title(\"2008 Subaru Hatchback Prices\")\n",
    "ax1.boxplot(data)\n",
    "plt.show()"
   ]
  },
  {
   "cell_type": "code",
   "execution_count": 165,
   "metadata": {},
   "outputs": [
    {
     "data": {
      "text/plain": [
       "[<matplotlib.lines.Line2D at 0x24a93832710>]"
      ]
     },
     "execution_count": 165,
     "metadata": {},
     "output_type": "execute_result"
    },
    {
     "data": {
      "image/png": "[encoded data removed]",
      "text/plain": [
       "<Figure size 432x288 with 1 Axes>"
      ]
     },
     "metadata": {
      "needs_background": "light"
     },
     "output_type": "display_data"
    }
   ],
   "source": [
    "x = list(map(int,pd.to_numeric(grouped[\"Price\"].tolist())))\n",
    "y = grouped[\"Odometer\"].tolist()\n",
    "\n",
    "for index, value  in enumerate(y):\n",
    "    y[index] = int(value.replace(',', '')) \n",
    "    \n",
    "m, b = np.polyfit(x, y, 1)\n",
    "\n",
    "plt.scatter(x, y, marker='o');\n",
    "plt.plot(x, np.asarray(m)*x + b)"
   ]
  },
  {
   "cell_type": "code",
   "execution_count": 164,
   "metadata": {},
   "outputs": [
    {
     "name": "stdout",
     "output_type": "stream",
     "text": [
      "24185.654498802236\n"
     ]
    }
   ],
   "source": [
    "print(m*25000 + b)"
   ]
  },
  {
   "cell_type": "code",
   "execution_count": 167,
   "metadata": {},
   "outputs": [
    {
     "ename": "AttributeError",
     "evalue": "'list' object has no attribute 'quantile'",
     "output_type": "error",
     "traceback": [
      "\u001b[1;31m---------------------------------------------------------------------------\u001b[0m",
      "\u001b[1;31mAttributeError\u001b[0m                            Traceback (most recent call last)",
      "\u001b[1;32m<ipython-input-167-822eb126ff2d>\u001b[0m in \u001b[0;36m<module>\u001b[1;34m\u001b[0m\n\u001b[1;32m----> 1\u001b[1;33m \u001b[0mprint\u001b[0m\u001b[1;33m(\u001b[0m\u001b[0mx\u001b[0m\u001b[1;33m.\u001b[0m\u001b[0mquantile\u001b[0m\u001b[1;33m(\u001b[0m\u001b[1;36m.75\u001b[0m\u001b[1;33m)\u001b[0m\u001b[1;33m)\u001b[0m\u001b[1;33m\u001b[0m\u001b[1;33m\u001b[0m\u001b[0m\n\u001b[0m",
      "\u001b[1;31mAttributeError\u001b[0m: 'list' object has no attribute 'quantile'"
     ]
    }
   ],
   "source": [
    "print(grouped[\"Price\"].quantile(.75))"
   ]
  },
  {
   "cell_type": "code",
   "execution_count": null,
   "metadata": {},
   "outputs": [],
   "source": []
  }
 ],
 "metadata": {
  "kernelspec": {
   "display_name": "Python 3",
   "language": "python",
   "name": "python3"
  },
  "language_info": {
   "codemirror_mode": {
    "name": "ipython",
    "version": 3
   },
   "file_extension": ".py",
   "mimetype": "text/x-python",
   "name": "python",
   "nbconvert_exporter": "python",
   "pygments_lexer": "ipython3",
   "version": "3.7.3"
  }
 },
 "nbformat": 4,
 "nbformat_minor": 4
}
